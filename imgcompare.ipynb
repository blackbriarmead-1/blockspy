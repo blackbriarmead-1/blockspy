{
 "cells": [
  {
   "cell_type": "code",
   "execution_count": 2,
   "metadata": {},
   "outputs": [],
   "source": [
    "from PIL import Image\n",
    "import numpy as np\n",
    "\n",
    "Image.MAX_IMAGE_PIXELS = None\n",
    "\n",
    "# Load the two images\n",
    "image1 = Image.open('fullmap-7-27.png')\n",
    "image2 = Image.open('fullmap-7-26.png')\n",
    "\n",
    "# Convert the images to numpy arrays\n",
    "image1_array = np.array(image1)\n",
    "image2_array = np.array(image2)\n",
    "\n",
    "# Calculate the absolute difference between the two images\n",
    "diff = np.abs(image2_array - image1_array)\n",
    "\n",
    "# Create a new image from the difference array\n",
    "diff_image = Image.fromarray(diff)\n",
    "\n",
    "# Save the difference image as a PNG file\n",
    "diff_image.save('7-27-7-28-diff.png')"
   ]
  }
 ],
 "metadata": {
  "kernelspec": {
   "display_name": "Python 3",
   "language": "python",
   "name": "python3"
  },
  "language_info": {
   "codemirror_mode": {
    "name": "ipython",
    "version": 3
   },
   "file_extension": ".py",
   "mimetype": "text/x-python",
   "name": "python",
   "nbconvert_exporter": "python",
   "pygments_lexer": "ipython3",
   "version": "3.11.4"
  },
  "orig_nbformat": 4
 },
 "nbformat": 4,
 "nbformat_minor": 2
}
