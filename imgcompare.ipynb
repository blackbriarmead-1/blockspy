{
 "cells": [
  {
   "cell_type": "code",
   "execution_count": 3,
   "metadata": {},
   "outputs": [],
   "source": [
    "from PIL import Image\n",
    "import numpy as np\n",
    "\n",
    "Image.MAX_IMAGE_PIXELS = None\n",
    "\n",
    "# Load the two images\n",
    "image1 = Image.open('combined_new.png')\n",
    "image2 = Image.open('fullmap-7-26.png')\n",
    "\n",
    "# Convert the images to numpy arrays\n",
    "image1_array = np.array(image1.convert('RGB'))\n",
    "image2_array = np.array(image2.convert('RGB'))\n",
    "\n",
    "# Calculate the absolute difference between the two images\n",
    "diff = np.abs(image2_array - image1_array)\n",
    "\n",
    "# Create a new image from the difference array\n",
    "diff_image = Image.fromarray(diff)\n",
    "\n",
    "# Save the difference image as a PNG file\n",
    "diff_image.save('release-day-initial-diff.png')"
   ]
  },
  {
   "cell_type": "code",
   "execution_count": 2,
   "metadata": {},
   "outputs": [
    {
     "ename": "TypeError",
     "evalue": "initializeDB() takes 0 positional arguments but 1 was given",
     "output_type": "error",
     "traceback": [
      "\u001b[1;31m---------------------------------------------------------------------------\u001b[0m",
      "\u001b[1;31mTypeError\u001b[0m                                 Traceback (most recent call last)",
      "Cell \u001b[1;32mIn[2], line 13\u001b[0m\n\u001b[0;32m     10\u001b[0m \u001b[39mimport\u001b[39;00m \u001b[39mgzip\u001b[39;00m\n\u001b[0;32m     11\u001b[0m \u001b[39mimport\u001b[39;00m \u001b[39mrandom\u001b[39;00m\n\u001b[1;32m---> 13\u001b[0m connection \u001b[39m=\u001b[39m util\u001b[39m.\u001b[39;49minitializeDB(\u001b[39m\"\u001b[39;49m\u001b[39mtest\u001b[39;49m\u001b[39m\"\u001b[39;49m)\n\u001b[0;32m     15\u001b[0m ms \u001b[39m=\u001b[39m datetime\u001b[39m.\u001b[39mnow()\n\u001b[0;32m     16\u001b[0m unix_timestamp \u001b[39m=\u001b[39m \u001b[39mround\u001b[39m(time\u001b[39m.\u001b[39mmktime(ms\u001b[39m.\u001b[39mtimetuple()) \u001b[39m*\u001b[39m \u001b[39m1000\u001b[39m)\n",
      "\u001b[1;31mTypeError\u001b[0m: initializeDB() takes 0 positional arguments but 1 was given"
     ]
    }
   ],
   "source": [
    "import src.BlockSpy.Tile as Tile\n",
    "import src.BlockSpy.util as util\n",
    "import src.BlockSpy.Diff as Diff\n",
    "import sqlite3\n",
    "from PIL import Image, ImageFilter\n",
    "import io\n",
    "import sys\n",
    "import time\n",
    "from datetime import datetime\n",
    "import gzip\n",
    "import random\n",
    "\n",
    "connection = util.initializeDB(\"test\")\n",
    "\n",
    "ms = datetime.now()\n",
    "unix_timestamp = round(time.mktime(ms.timetuple()) * 1000)\n",
    "print(unix_timestamp)\n",
    "\n",
    "tiles = util.getTiles(-25,-25,-24,-24,5)\n",
    "print(\"tiles have been retrieved\")\n",
    "\n",
    "for index, tile in enumerate(tiles):\n",
    "    #print(\"updating tile:\",index)\n",
    "    #tile.updateImage(tile.image.filter(ImageFilter.CONTOUR))\n",
    "    util.updateTile(tile,unix_timestamp,connection)\n",
    "\n",
    "diff = util.getDiffByIndex(0,0,5,0,4,connection)\n",
    "\n",
    "print(diff.diffarray)\n",
    "\n"
   ]
  }
 ],
 "metadata": {
  "kernelspec": {
   "display_name": "Python 3",
   "language": "python",
   "name": "python3"
  },
  "language_info": {
   "codemirror_mode": {
    "name": "ipython",
    "version": 3
   },
   "file_extension": ".py",
   "mimetype": "text/x-python",
   "name": "python",
   "nbconvert_exporter": "python",
   "pygments_lexer": "ipython3",
   "version": "3.11.4"
  },
  "orig_nbformat": 4
 },
 "nbformat": 4,
 "nbformat_minor": 2
}
